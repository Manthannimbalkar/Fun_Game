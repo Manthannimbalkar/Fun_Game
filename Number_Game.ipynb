{
 "cells": [
  {
   "cell_type": "markdown",
   "id": "995cf926",
   "metadata": {},
   "source": [
    "# Game of Numbers"
   ]
  },
  {
   "cell_type": "code",
   "execution_count": 1,
   "id": "5c96c6a4",
   "metadata": {},
   "outputs": [
    {
     "name": "stdout",
     "output_type": "stream",
     "text": [
      "Enter the random number of your choice20000\n",
      "I Won\n",
      "I choose:  9957056\n",
      "You choose:  20000\n"
     ]
    }
   ],
   "source": [
    "import random\n",
    "ComputerNumber = random.randint(-1000,10000000)\n",
    "PlayerNumber = int(input('Enter the random number of your choice'))\n",
    "if(ComputerNumber > PlayerNumber):\n",
    "    print(\"I Won\")\n",
    "else:\n",
    "    print(\"You WOn\")\n",
    "print('I choose: ' , ComputerNumber)\n",
    "print('You choose: ' , PlayerNumber)"
   ]
  },
  {
   "cell_type": "code",
   "execution_count": null,
   "id": "dcaf9b31",
   "metadata": {},
   "outputs": [],
   "source": []
  }
 ],
 "metadata": {
  "kernelspec": {
   "display_name": "Python 3 (ipykernel)",
   "language": "python",
   "name": "python3"
  },
  "language_info": {
   "codemirror_mode": {
    "name": "ipython",
    "version": 3
   },
   "file_extension": ".py",
   "mimetype": "text/x-python",
   "name": "python",
   "nbconvert_exporter": "python",
   "pygments_lexer": "ipython3",
   "version": "3.9.12"
  }
 },
 "nbformat": 4,
 "nbformat_minor": 5
}
